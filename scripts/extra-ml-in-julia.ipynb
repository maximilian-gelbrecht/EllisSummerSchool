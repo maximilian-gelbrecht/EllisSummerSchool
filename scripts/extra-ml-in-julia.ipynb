{
 "cells": [
  {
   "cell_type": "markdown",
   "id": "f65a72ef-0ed2-4c0c-b527-4fb14efa9d51",
   "metadata": {},
   "source": [
    "## ELLIS Summer School Project\n",
    "\n",
    "This notebook just collects some extra recourses to get you started with ML in Julia. Check the other notebook for the general introduction to the project"
   ]
  },
  {
   "cell_type": "code",
   "execution_count": null,
   "id": "7965e263-c5ae-44c9-b731-350c4194ff8e",
   "metadata": {},
   "outputs": [],
   "source": []
  }
 ],
 "metadata": {
  "kernelspec": {
   "display_name": "Julia 1.10.9",
   "language": "julia",
   "name": "julia-1.10"
  },
  "language_info": {
   "file_extension": ".jl",
   "mimetype": "application/julia",
   "name": "julia",
   "version": "1.10.9"
  }
 },
 "nbformat": 4,
 "nbformat_minor": 5
}
